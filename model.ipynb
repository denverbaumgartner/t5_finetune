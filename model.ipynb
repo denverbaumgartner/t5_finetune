{
 "cells": [
  {
   "cell_type": "code",
   "execution_count": 1,
   "id": "e63b061c-10c3-4b76-931e-37bb54935f11",
   "metadata": {},
   "outputs": [
    {
     "name": "stdout",
     "output_type": "stream",
     "text": [
      "hello, world!\n"
     ]
    }
   ],
   "source": [
    "print('hello, world!')"
   ]
  },
  {
   "cell_type": "code",
   "execution_count": 17,
   "id": "6b99348c-01f4-4a6b-bfca-19f67e2cd2aa",
   "metadata": {},
   "outputs": [],
   "source": [
    "import os\n",
    "import datasets\n",
    "\n",
    "from transformers import (\n",
    "    AdamW,\n",
    "    T5ForConditionalGeneration,\n",
    "    T5Tokenizer,\n",
    "    T5TokenizerFast,\n",
    "    get_linear_schedule_with_warmup\n",
    ")"
   ]
  },
  {
   "cell_type": "code",
   "execution_count": 18,
   "id": "814a2ef6-6806-4016-b571-ea6c396593c9",
   "metadata": {},
   "outputs": [
    {
     "name": "stderr",
     "output_type": "stream",
     "text": [
      "The `xla_device` argument has been deprecated in v4.4.0 of Transformers. It is ignored and you can safely remove it from your `config.json` file.\n",
      "The `xla_device` argument has been deprecated in v4.4.0 of Transformers. It is ignored and you can safely remove it from your `config.json` file.\n",
      "The `xla_device` argument has been deprecated in v4.4.0 of Transformers. It is ignored and you can safely remove it from your `config.json` file.\n",
      "The `xla_device` argument has been deprecated in v4.4.0 of Transformers. It is ignored and you can safely remove it from your `config.json` file.\n"
     ]
    }
   ],
   "source": [
    "k_model = \"mrm8488/t5-base-finetuned-wikiSQL\" \n",
    "model = T5ForConditionalGeneration.from_pretrained(k_model)\n",
    "tokenizer = T5Tokenizer.from_pretrained(k_model)\n",
    "ftokenizer = T5TokenizerFast.from_pretrained(k_model)"
   ]
  },
  {
   "cell_type": "code",
   "execution_count": null,
   "id": "b0f730ae-6369-4363-8e70-8cb363c8101e",
   "metadata": {},
   "outputs": [],
   "source": [
    "class SynthData:\n",
    "\n",
    "    def __init__(self, dataset='semiotic/spider_dataset_tuning'): \n",
    "        self.data = datasets.load_dataset(dataset)\n",
    "        #self.data = datasets.load_from_disk('data/spider_tuning_dict')\n",
    "\n",
    "    def format_request(self, question, schema): \n",
    "        input_template = \"Schema: {schema} translate English to SQL: {question} </s>\"\n",
    "        return input_template.format(schema=schema, question=question)\n",
    "    \n",
    "    def get_subset(self, subset='train', type='synthetic_joint'): \n",
    "        return self.data[subset].filter(lambda x: x['type'] == type)\n",
    "    \n",
    "    def prepare_sources(self, subset='train', type='synthetic_joint', data_dir='data'):\n",
    "        # Ensure data_dir exists\n",
    "        os.makedirs(data_dir, exist_ok=True)\n",
    "\n",
    "        # Create or clear existing files\n",
    "        open(f'{data_dir}/{subset}.source', 'w').close()\n",
    "        open(f'{data_dir}/{subset}.target', 'w').close()\n",
    "\n",
    "        # Get subset data\n",
    "        subset_data = self.get_subset(subset=subset, type=type)\n",
    "\n",
    "        # Append data to the files\n",
    "        for i, row in enumerate(subset_data):\n",
    "            with open(f'{data_dir}/{subset}.source', 'a') as f_source, \\\n",
    "                open(f'{data_dir}/{subset}.target', 'a') as f_target:\n",
    "                f_source.write(self.format_request(row['question'], row['schema']) + '\\n')\n",
    "                f_target.write(row['query'] + ' </s>\\n')\n",
    "\n",
    "    def get_unk_tokens(self, tokenizer, value): \n",
    "        unk_tokens = []\n",
    "        tokens = set(tokenizer.tokenize(value))\n",
    "        for token in tokens: \n",
    "            if tokenizer.convert_tokens_to_ids(token) == tokenizer.unk_token_id: \n",
    "                unk_tokens.append(token)\n",
    "        return unk_tokens\n",
    "\n",
    "    def get_dataset_unk_tokens(self, tokenizer, dataset): \n",
    "        unk_tokens = []\n",
    "        for i, row in enumerate(dataset): \n",
    "            text = self.format_request(row['question'], row['schema']) + ' ' + row['query']\n",
    "            unks = self.get_unk_tokens(tokenizer, text)\n",
    "            unk_tokens.extend(unks)\n",
    "        return list(set(unk_tokens))\n",
    "\n",
    "    def get_all_unk_tokens(self, tokenizer): \n",
    "        unk_tokens = []\n",
    "        unk_tokens.extend(self.get_dataset_unk_tokens(tokenizer, self.data['train']))\n",
    "        unk_tokens.extend(self.get_dataset_unk_tokens(tokenizer, self.data['val']))\n",
    "        unk_tokens.extend(self.get_dataset_unk_tokens(tokenizer, self.data['test']))\n",
    "        return list(set(unk_tokens))\n",
    "\n",
    "sd = SynthData()"
   ]
  },
  {
   "cell_type": "code",
   "execution_count": 89,
   "id": "e0cc34ec-12a8-41a0-9ed6-65853a7d5622",
   "metadata": {},
   "outputs": [
    {
     "name": "stdout",
     "output_type": "stream",
     "text": [
      "Schema: ['CREATE TABLE course (course_id NUMBER, staring_date TEXT, course TEXT);', 'CREATE TABLE teacher (teacher_id NUMBER, name TEXT, age TEXT, hometown TEXT);', 'CREATE TABLE course_arrange (course_id NUMBER, teacher_id NUMBER, grade NUMBER, FOREIGN KEY (teacher_id) REFERENCES teacher(teacher_id), FOREIGN KEY (course_id) REFERENCES course(course_id));'] translate English to SQL: List the name of teachers whose hometown is not `` Little Lever Urban District '' . </s> select name from teacher where hometown != \"little lever urban district\"\n",
      "Schema: ['CREATE TABLE course (course_id NUMBER, staring_date TEXT, course TEXT);', 'CREATE TABLE teacher (teacher_id NUMBER, name TEXT, age TEXT, hometown TEXT);', 'CREATE TABLE course_arrange (course_id NUMBER, teacher_id NUMBER, grade NUMBER, FOREIGN KEY (teacher_id) REFERENCES teacher(teacher_id), FOREIGN KEY (course_id) REFERENCES course(course_id));'] translate English to SQL: What are the names of the teachers whose hometown is not `` Little Lever Urban District '' ? </s> select name from teacher where hometown != \"little lever urban district\"\n"
     ]
    },
    {
     "data": {
      "text/plain": [
       "['``', '<']"
      ]
     },
     "execution_count": 89,
     "metadata": {},
     "output_type": "execute_result"
    }
   ],
   "source": [
    "sd.get_all_unk_tokens(tokenizer)"
   ]
  },
  {
   "cell_type": "code",
   "execution_count": 7,
   "id": "a058ab95-87ae-43bf-8c9d-1c82cfee5377",
   "metadata": {},
   "outputs": [
    {
     "name": "stderr",
     "output_type": "stream",
     "text": [
      "Filter: 100%|██████████| 2004/2004 [00:00<00:00, 58180.83 examples/s]\n",
      "Filter: 100%|██████████| 502/502 [00:00<00:00, 62566.21 examples/s]\n",
      "Filter: 100%|██████████| 870/870 [00:00<00:00, 79249.53 examples/s]\n"
     ]
    }
   ],
   "source": [
    "train = sd.get_subset(subset=\"train\")\n",
    "val = sd.get_subset(subset=\"val\")\n",
    "test = sd.get_subset(subset=\"test\")"
   ]
  },
  {
   "cell_type": "code",
   "execution_count": 8,
   "id": "c71a5b5d-e376-4bdf-b62b-d54601030395",
   "metadata": {},
   "outputs": [
    {
     "data": {
      "text/plain": [
       "Dataset({\n",
       "    features: ['type', 'question', 'query', 'db_id', 'schema'],\n",
       "    num_rows: 906\n",
       "})"
      ]
     },
     "execution_count": 8,
     "metadata": {},
     "output_type": "execute_result"
    }
   ],
   "source": [
    "train"
   ]
  },
  {
   "cell_type": "code",
   "execution_count": 33,
   "id": "877544fd-7717-4dc8-9988-b7c840a17b60",
   "metadata": {},
   "outputs": [
    {
     "data": {
      "text/plain": [
       "2"
      ]
     },
     "execution_count": 33,
     "metadata": {},
     "output_type": "execute_result"
    }
   ],
   "source": [
    "tokenizer.unk_token_id"
   ]
  },
  {
   "cell_type": "code",
   "execution_count": 46,
   "id": "14d73389-e0a0-47f7-aef4-72a8da978596",
   "metadata": {},
   "outputs": [
    {
     "name": "stdout",
     "output_type": "stream",
     "text": [
      "<\n"
     ]
    }
   ],
   "source": [
    "q = \"SELECT count(*) FROM Movie WHERE YEAR  <  2000 </s>\"\n",
    "tokens = set(tokenizer.tokenize(q))\n",
    "for token in tokens: \n",
    "    if tokenizer.convert_tokens_to_ids(token) == tokenizer.unk_token_id: \n",
    "        print(token)"
   ]
  },
  {
   "cell_type": "code",
   "execution_count": 82,
   "id": "5ec94569-26e3-49b0-89d0-aebea65669a5",
   "metadata": {},
   "outputs": [
    {
     "data": {
      "text/plain": [
       "['<']"
      ]
     },
     "execution_count": 82,
     "metadata": {},
     "output_type": "execute_result"
    }
   ],
   "source": [
    "def get_unk_tokens(sd, tokenizer, value): \n",
    "    unk_tokens = []\n",
    "    tokens = set(tokenizer.tokenize(value))\n",
    "    for token in tokens: \n",
    "        if tokenizer.convert_tokens_to_ids(token) == tokenizer.unk_token_id: \n",
    "            unk_tokens.append(token)\n",
    "    return unk_tokens\n",
    "\n",
    "def get_dataset_unk_tokens(sd, dataset, tokenizer): \n",
    "    unk_tokens = []\n",
    "    for i, row in enumerate(dataset): \n",
    "        text = sd.format_request(row['question'], row['schema']) + ' ' + row['query']\n",
    "        unks = get_unk_tokens(sd, tokenizer, text)\n",
    "        unk_tokens.extend(unks)\n",
    "    return list(set(unk_tokens))\n",
    "        \n",
    "\n",
    "t = get_dataset_unk_tokens(sd, val, tokenizer)\n",
    "t"
   ]
  },
  {
   "cell_type": "code",
   "execution_count": 78,
   "id": "a4b7caf7-0abf-4e9a-aaef-77f438de8cc9",
   "metadata": {},
   "outputs": [
    {
     "data": {
      "text/plain": [
       "['^', '~`', '<']"
      ]
     },
     "execution_count": 78,
     "metadata": {},
     "output_type": "execute_result"
    }
   ],
   "source": [
    "get_unk_tokens(sd, tokenizer, '~`!@#$%^&*()_+<>')"
   ]
  },
  {
   "cell_type": "code",
   "execution_count": 76,
   "id": "c09cbb31-afb3-40ec-9024-a57d3b3b43d1",
   "metadata": {},
   "outputs": [
    {
     "data": {
      "text/plain": [
       "2"
      ]
     },
     "execution_count": 76,
     "metadata": {},
     "output_type": "execute_result"
    }
   ],
   "source": [
    "tokenizer.convert_tokens_to_ids()"
   ]
  },
  {
   "cell_type": "code",
   "execution_count": null,
   "id": "941ee022-1d31-4681-a3cd-bbe0544c0ef6",
   "metadata": {},
   "outputs": [],
   "source": []
  }
 ],
 "metadata": {
  "kernelspec": {
   "display_name": "model_notebook",
   "language": "python",
   "name": "model_notebook"
  },
  "language_info": {
   "codemirror_mode": {
    "name": "ipython",
    "version": 3
   },
   "file_extension": ".py",
   "mimetype": "text/x-python",
   "name": "python",
   "nbconvert_exporter": "python",
   "pygments_lexer": "ipython3",
   "version": "3.10.12"
  }
 },
 "nbformat": 4,
 "nbformat_minor": 5
}
